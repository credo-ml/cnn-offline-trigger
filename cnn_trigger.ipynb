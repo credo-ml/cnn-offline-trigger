{
  "nbformat": 4,
  "nbformat_minor": 0,
  "metadata": {
    "accelerator": "GPU",
    "colab": {
      "name": "Wavelet_BINARY_ALFA.ipynb",
      "provenance": [],
      "collapsed_sections": [],
      "toc_visible": true
    },
    "kernelspec": {
      "display_name": "Python 3",
      "name": "python3"
    }
  },
  "cells": [
    {
      "cell_type": "code",
      "metadata": {
        "colab": {
          "base_uri": "https://localhost:8080/"
        },
        "id": "CSvSFMyfshA9",
        "outputId": "f930217d-216d-455e-cee8-584ebed3f244"
      },
      "source": [
        "import tensorflow as tf\n",
        "\n",
        "print(tf.keras.__version__)"
      ],
      "execution_count": null,
      "outputs": [
        {
          "output_type": "stream",
          "text": [
            "2.4.0\n"
          ],
          "name": "stdout"
        }
      ]
    },
    {
      "cell_type": "code",
      "metadata": {
        "id": "YjTfJVEom3uU"
      },
      "source": [
        "# ! unzip ./hit-images-final-ext-2.zip\n",
        "# ! pip install mahotas"
      ],
      "execution_count": null,
      "outputs": []
    },
    {
      "cell_type": "code",
      "metadata": {
        "id": "g1dtMexznCW1"
      },
      "source": [
        "def loadData(path, verbose=True):\n",
        "\n",
        "  import cv2\n",
        "  import glob\n",
        "\n",
        "  dots = []\n",
        "  lines = []\n",
        "  worms = []\n",
        "  artefacts = []\n",
        "\n",
        "  for img in glob.glob(path+\"hits_votes_4_Dots/*.png\"):\n",
        "      n = cv2.imread(img)\n",
        "      dots.append(n)\n",
        "  target_dots = [0 for _ in dots]\n",
        "\n",
        "  for img in glob.glob(path+\"hits_votes_4_Lines/*.png\"):\n",
        "      n = cv2.imread(img)\n",
        "      lines.append(n)\n",
        "  target_lines = [1 for _ in lines]\n",
        "\n",
        "  for img in glob.glob(path+\"hits_votes_4_Worms/*.png\"):\n",
        "      n = cv2.imread(img)\n",
        "      worms.append(n)\n",
        "  target_worms = [2 for _ in worms]\n",
        "\n",
        "  for img in glob.glob(path+\"artefacts/*.png\"):\n",
        "      n = cv2.imread(img)\n",
        "      artefacts.append(n)\n",
        "  target_artefacts = [3 for _ in artefacts]\n",
        "\n",
        "  images=dots+lines+worms+artefacts\n",
        "\n",
        "  target_signals_binary = [0 for _ in (dots+lines+worms)]\n",
        "  target_artefacts_binary = [1 for _ in artefacts]\n",
        "\n",
        "  targets=target_signals_binary+target_artefacts_binary\n",
        "\n",
        "  if verbose:\n",
        "    print(len(images),len(targets))\n",
        "    print(images[0].shape)\n",
        "    print(len(dots), len(lines), len(worms), len(artefacts))\n",
        "\n",
        "\n",
        "  return (images, targets)"
      ],
      "execution_count": null,
      "outputs": []
    },
    {
      "cell_type": "code",
      "metadata": {
        "colab": {
          "base_uri": "https://localhost:8080/"
        },
        "id": "kmudCw-4nIOc",
        "outputId": "f902363d-aaf2-4f96-ece1-082e1d44df92"
      },
      "source": [
        "# path=\"/content/drive/MyDrive/Colab Notebooks/hit-images/\"\n",
        "path=\"hit-images-final/\"\n",
        "\n",
        "images, targets = loadData(path)"
      ],
      "execution_count": null,
      "outputs": [
        {
          "output_type": "stream",
          "text": [
            "2354 2354\n",
            "(60, 60, 3)\n",
            "535 393 304 1122\n"
          ],
          "name": "stdout"
        }
      ]
    },
    {
      "cell_type": "code",
      "metadata": {
        "id": "0pjde8H_nK0P"
      },
      "source": [
        "\n",
        "def preprocessData(data, wavelets=(2,), verbose=True):\n",
        "\n",
        "  import mahotas\n",
        "  import numpy as np\n",
        "\n",
        "  print(wavelets)\n",
        "\n",
        "  images, targets = data\n",
        "\n",
        "  features = []\n",
        "  bl_images = []\n",
        "  th_images = []\n",
        "\n",
        "  for img in images:\n",
        "\n",
        "    img = img.astype('int32')\n",
        "\n",
        "    blackwhite=img[:,:,0]+img[:,:,1]+img[:,:,2]\n",
        "    bl_images.append(blackwhite.copy())\n",
        "\n",
        "    threshold = blackwhite.mean() + blackwhite.std() * 5\n",
        "    threshold = threshold if threshold < 100 else 100  \n",
        "\n",
        "    mask = np.where(blackwhite > threshold, 1, 0)\n",
        "    blackwhite = blackwhite * mask\n",
        "\n",
        "    th_images.append(blackwhite.copy())\n",
        "\n",
        "\n",
        "    # Transform using Dx Wavelets to obtain transformed images\n",
        "\n",
        "    layers = {\n",
        "      2: mahotas.daubechies(blackwhite,'D2').reshape(60,60,1),\n",
        "      4: mahotas.daubechies(blackwhite,'D4').reshape(60,60,1),\n",
        "      6: mahotas.daubechies(blackwhite,'D6').reshape(60,60,1),\n",
        "      8: mahotas.daubechies(blackwhite,'D8').reshape(60,60,1),\n",
        "      10: mahotas.daubechies(blackwhite,'D10').reshape(60,60,1),\n",
        "      12: mahotas.daubechies(blackwhite,'D12').reshape(60,60,1),\n",
        "      14: mahotas.daubechies(blackwhite,'D14').reshape(60,60,1),\n",
        "      16: mahotas.daubechies(blackwhite,'D16').reshape(60,60,1),\n",
        "      18: mahotas.daubechies(blackwhite,'D18').reshape(60,60,1),\n",
        "      20: mahotas.daubechies(blackwhite,'D20').reshape(60,60,1)\n",
        "    }\n",
        "\n",
        "    # tt = np.concatenate((t02, t04, t06, t08), axis=2)\n",
        "    out = np.concatenate(tuple(map(layers.__getitem__, wavelets)), axis=2)\n",
        "\n",
        "    features.append(out)\n",
        "\n",
        "  feature_array, label_array = np.array(features), np.array(targets)\n",
        "\n",
        "  if verbose:\n",
        "    print(feature_array.shape)\n",
        "    print(label_array.shape)\n",
        "\n",
        "  return (feature_array, label_array, th_images, bl_images)\n"
      ],
      "execution_count": null,
      "outputs": []
    },
    {
      "cell_type": "code",
      "metadata": {
        "colab": {
          "base_uri": "https://localhost:8080/"
        },
        "id": "Anmy2y7KnQFi",
        "outputId": "8b765e43-b05e-4670-fe1a-85f45c15c1ee"
      },
      "source": [
        "feature_array, label_array, th, bl = preprocessData(data=(images, targets), wavelets=(20,))"
      ],
      "execution_count": null,
      "outputs": [
        {
          "output_type": "stream",
          "text": [
            "(20,)\n",
            "(2354, 60, 60, 1)\n",
            "(2354,)\n"
          ],
          "name": "stdout"
        }
      ]
    },
    {
      "cell_type": "code",
      "metadata": {
        "id": "uOFzqJlohOrD"
      },
      "source": [
        "# import matplotlib.pyplot as plt\n",
        "\n",
        "# no = 2014\n",
        "\n",
        "# plt.figure()\n",
        "# plt.imshow(images[no])\n",
        "# plt.savefig('color1.png')\n",
        "\n",
        "# plt.figure()\n",
        "# plt.imshow(bl[no], cmap='gray')\n",
        "# plt.savefig('gray1.png')\n",
        "\n",
        "# plt.figure()\n",
        "# plt.imshow(th[no], cmap='gray')\n",
        "# plt.savefig('threshold1.png')\n",
        "\n",
        "# plt.figure()\n",
        "# plt.imshow(feature_array[no][:,:,0], cmap='gray')\n",
        "# plt.savefig('wavelet1.png')"
      ],
      "execution_count": null,
      "outputs": []
    },
    {
      "cell_type": "code",
      "metadata": {
        "id": "_4vkjkKbjqIq"
      },
      "source": [
        "# import matplotlib.pyplot as plt\n",
        "# plt.figure()\n",
        "\n",
        "# #subplot(r,c) provide the no. of rows and columns\n",
        "# f, axarr = plt.subplots(3,2,figsize=(10,10)) \n",
        "\n",
        "# no = 1510\n",
        "# # use the created array to output your multiple images. In this case I have stacked 4 images vertically\n",
        "# axarr[0,0].imshow(images[no], cmap='gray')\n",
        "# axarr[0,1].imshow(th_images[no], cmap='gray')\n",
        "# # axarr[1,0].imshow(feature_array2[no], cmap='gray')\n",
        "# axarr[1,0].imshow(feature_array4[no][:,:,0], cmap='gray')\n",
        "# # axarr[1,1].imshow(feature_array2[no]>th[no], cmap='gray')\n",
        "# axarr[1,1].imshow(feature_array4[no][:,:,3], cmap='gray')\n",
        "# axarr[2,0].imshow(himg[no], cmap='gray')\n",
        "# axarr[2,1].plot(hf[no])\n",
        "# print(th[no], targets[no], hf[no].shape)\n",
        "\n",
        "# ! zip images.zip *.png"
      ],
      "execution_count": null,
      "outputs": []
    },
    {
      "cell_type": "code",
      "metadata": {
        "colab": {
          "base_uri": "https://localhost:8080/"
        },
        "id": "1ihg7Fvv0aF8",
        "outputId": "6488b056-7105-4cf4-b5ab-20b10680b195"
      },
      "source": [
        "import tensorflow as tf\n",
        "import time\n",
        "begin = time.time()\n",
        "print(f\"TensorFlow version: {tf.__version__}\")\n",
        "#import keras (high level API) wiht tensorflow as backend\n",
        "from tensorflow import keras\n",
        "from tensorflow.keras.models import Sequential\n",
        "from tensorflow.keras.layers import Dense, Activation, Flatten\n",
        "from tensorflow.keras.layers import Conv2D, MaxPooling2D, Dropout\n",
        "from tensorflow.keras.callbacks import ModelCheckpoint\n",
        "\n",
        "def build_cnn_model(activation, input_shape, verbose=True):\n",
        "    model = Sequential()\n",
        "    \n",
        "    # 2 Convolution layer with Max polling\n",
        "    model.add(Conv2D(32, 5, activation = activation, padding = 'same', input_shape = input_shape))\n",
        "    model.add(MaxPooling2D(pool_size = (2,2)))\n",
        "    # model.add(Dropout(0.2))\n",
        "    model.add(Conv2D(64, 5, activation = activation, padding = 'same', kernel_initializer = \"he_normal\"))\n",
        "    model.add(MaxPooling2D(pool_size = (2,2)))  \n",
        "    # model.add(Dropout(0.2))\n",
        "    model.add(Conv2D(128, 5, activation = activation, padding = 'same', kernel_initializer = \"he_normal\"))\n",
        "    model.add(MaxPooling2D(pool_size = (2,2)))    \n",
        "    # model.add(Dropout(0.2))\n",
        "    model.add(Conv2D(128, 5, activation = activation, padding = 'same', kernel_initializer = \"he_normal\"))\n",
        "    model.add(MaxPooling2D(pool_size = (2,2)))        \n",
        "    model.add(Flatten())\n",
        "    \n",
        "    # 3 Full connected layer\n",
        "    model.add(Dense(300, activation = activation, kernel_initializer = \"he_normal\", \n",
        "                    kernel_regularizer=tf.keras.regularizers.l1(0.01),\n",
        "                    activity_regularizer=tf.keras.regularizers.l2(0.01)))\n",
        "    model.add(Dense(50, activation = activation, kernel_initializer = \"he_normal\", \n",
        "                    kernel_regularizer=tf.keras.regularizers.l1(0.01),\n",
        "                    activity_regularizer=tf.keras.regularizers.l2(0.01)))\n",
        "    model.add(Dense(2, activation = 'softmax')) # 6 classes\n",
        "    \n",
        "    # summarize the model\n",
        "    if verbose:\n",
        "      print(model.summary())\n",
        "    return model\n",
        "\n",
        "def compile_and_fit_model(model, X_train, y_train, X_test, y_test, batch_size, n_epochs, verbose=True):\n",
        "\n",
        "    # compile the model\n",
        "    model.compile(\n",
        "        # optimizer=tf.keras.optimizers.Adam(),\n",
        "        optimizer=tf.keras.optimizers.RMSprop(),\n",
        "        loss='categorical_crossentropy',\n",
        "        metrics=['accuracy'])\n",
        "\n",
        "    model.save('init.model.h5')\n",
        "\n",
        "\n",
        "\n",
        "    # define callbacks\n",
        "    callbacks = [ModelCheckpoint(filepath='best_model.h5', monitor='val_accuracy', save_best_only=True)]\n",
        "    \n",
        "    # fit the model\n",
        "    history = model.fit(x=X_train,\n",
        "                        y=y_train,\n",
        "                        batch_size=batch_size,\n",
        "                        epochs=n_epochs,\n",
        "                        verbose=verbose,\n",
        "                        callbacks=callbacks,\n",
        "                        validation_data=(X_test, y_test))\n",
        "    \n",
        "    return model, history"
      ],
      "execution_count": null,
      "outputs": [
        {
          "output_type": "stream",
          "text": [
            "TensorFlow version: 2.4.1\n"
          ],
          "name": "stdout"
        }
      ]
    },
    {
      "cell_type": "code",
      "metadata": {
        "colab": {
          "base_uri": "https://localhost:8080/"
        },
        "id": "1IWTF44x_1fO",
        "outputId": "3c0d4255-2f26-4112-b6c1-b303e85a3d5c"
      },
      "source": [
        "from sklearn.model_selection import train_test_split\n",
        "X_std = feature_array\n",
        "y = label_array\n",
        "X_train, X_test, y_train, y_test = train_test_split(X_std, y, test_size=0.2, random_state=0)\n",
        "\n",
        "# X_train = X_train.reshape(X_train.shape[0], X_train.shape[1], X_train.shape[2], X_train.shape[3])\n",
        "# X_test = X_test.reshape(X_test.shape[0], X_test.shape[1], X_test.shape[2], X_test.shape[3])\n",
        "\n",
        "from keras.utils import to_categorical\n",
        "train_cat = to_categorical(y_train)\n",
        "test_cat = to_categorical(y_test)\n",
        "\n",
        "# shape of the input images\n",
        "input_shape = (X_train.shape[1], X_train.shape[2], X_train.shape[3])\n",
        "print(input_shape, X_train.shape)\n",
        "\n",
        "# leaky ReLU\n",
        "# lrelu = tf.keras.layers.LeakyReLU(alpha=0.3)\n",
        "\n",
        "# create cnn model\n",
        "cnn_model = build_cnn_model(\"relu\", input_shape)\n",
        "# cnn_model = build_cnn_model(lrelu, input_shape)\n",
        "# train cnn model\n",
        "print(X_train.shape, 'aaa')\n",
        "trained_cnn_model, cnn_history = compile_and_fit_model(cnn_model, X_train, train_cat, X_test, test_cat, 64, 50)\n",
        "# print score\n",
        "loss, acc = trained_cnn_model.evaluate(X_test, test_cat)\n",
        "print(\"acc={:.2f} loss={:.2f}\".format(acc, loss))"
      ],
      "execution_count": null,
      "outputs": [
        {
          "output_type": "stream",
          "text": [
            "(60, 60, 1) (1883, 60, 60, 1)\n",
            "Model: \"sequential\"\n",
            "_________________________________________________________________\n",
            "Layer (type)                 Output Shape              Param #   \n",
            "=================================================================\n",
            "conv2d (Conv2D)              (None, 60, 60, 32)        832       \n",
            "_________________________________________________________________\n",
            "max_pooling2d (MaxPooling2D) (None, 30, 30, 32)        0         \n",
            "_________________________________________________________________\n",
            "conv2d_1 (Conv2D)            (None, 30, 30, 64)        51264     \n",
            "_________________________________________________________________\n",
            "max_pooling2d_1 (MaxPooling2 (None, 15, 15, 64)        0         \n",
            "_________________________________________________________________\n",
            "conv2d_2 (Conv2D)            (None, 15, 15, 128)       204928    \n",
            "_________________________________________________________________\n",
            "max_pooling2d_2 (MaxPooling2 (None, 7, 7, 128)         0         \n",
            "_________________________________________________________________\n",
            "conv2d_3 (Conv2D)            (None, 7, 7, 128)         409728    \n",
            "_________________________________________________________________\n",
            "max_pooling2d_3 (MaxPooling2 (None, 3, 3, 128)         0         \n",
            "_________________________________________________________________\n",
            "flatten (Flatten)            (None, 1152)              0         \n",
            "_________________________________________________________________\n",
            "dense (Dense)                (None, 300)               345900    \n",
            "_________________________________________________________________\n",
            "dense_1 (Dense)              (None, 50)                15050     \n",
            "_________________________________________________________________\n",
            "dense_2 (Dense)              (None, 2)                 102       \n",
            "=================================================================\n",
            "Total params: 1,027,804\n",
            "Trainable params: 1,027,804\n",
            "Non-trainable params: 0\n",
            "_________________________________________________________________\n",
            "None\n",
            "(1883, 60, 60, 1) aaa\n",
            "Epoch 1/50\n",
            "30/30 [==============================] - 9s 36ms/step - loss: 2928.0918 - accuracy: 0.6145 - val_loss: 103.8230 - val_accuracy: 0.8301\n",
            "Epoch 2/50\n",
            "30/30 [==============================] - 1s 17ms/step - loss: 100.1526 - accuracy: 0.8878 - val_loss: 89.7640 - val_accuracy: 0.9130\n",
            "Epoch 3/50\n",
            "30/30 [==============================] - 1s 17ms/step - loss: 86.4435 - accuracy: 0.8921 - val_loss: 75.3857 - val_accuracy: 0.8259\n",
            "Epoch 4/50\n",
            "30/30 [==============================] - 1s 17ms/step - loss: 71.0706 - accuracy: 0.7200 - val_loss: 56.8343 - val_accuracy: 0.7834\n",
            "Epoch 5/50\n",
            "30/30 [==============================] - 1s 20ms/step - loss: 51.5201 - accuracy: 0.6315 - val_loss: 35.2094 - val_accuracy: 0.4650\n",
            "Epoch 6/50\n",
            "30/30 [==============================] - 1s 17ms/step - loss: 30.1442 - accuracy: 0.5819 - val_loss: 16.6119 - val_accuracy: 0.5456\n",
            "Epoch 7/50\n",
            "30/30 [==============================] - 1s 17ms/step - loss: 13.4380 - accuracy: 0.7705 - val_loss: 6.4384 - val_accuracy: 0.9066\n",
            "Epoch 8/50\n",
            "30/30 [==============================] - 0s 17ms/step - loss: 5.2702 - accuracy: 0.9436 - val_loss: 3.0721 - val_accuracy: 0.9575\n",
            "Epoch 9/50\n",
            "30/30 [==============================] - 1s 17ms/step - loss: 2.8245 - accuracy: 0.9745 - val_loss: 2.3344 - val_accuracy: 0.9703\n",
            "Epoch 10/50\n",
            "30/30 [==============================] - 0s 17ms/step - loss: 2.2728 - accuracy: 0.9736 - val_loss: 2.1425 - val_accuracy: 0.9703\n",
            "Epoch 11/50\n",
            "30/30 [==============================] - 1s 17ms/step - loss: 2.1060 - accuracy: 0.9868 - val_loss: 2.1009 - val_accuracy: 0.9618\n",
            "Epoch 12/50\n",
            "30/30 [==============================] - 1s 17ms/step - loss: 2.0614 - accuracy: 0.9874 - val_loss: 2.0759 - val_accuracy: 0.9745\n",
            "Epoch 13/50\n",
            "30/30 [==============================] - 1s 17ms/step - loss: 2.0284 - accuracy: 0.9937 - val_loss: 2.0497 - val_accuracy: 0.9660\n",
            "Epoch 14/50\n",
            "30/30 [==============================] - 0s 17ms/step - loss: 2.0130 - accuracy: 0.9914 - val_loss: 2.0317 - val_accuracy: 0.9766\n",
            "Epoch 15/50\n",
            "30/30 [==============================] - 1s 17ms/step - loss: 1.9857 - accuracy: 0.9964 - val_loss: 2.0258 - val_accuracy: 0.9703\n",
            "Epoch 16/50\n",
            "30/30 [==============================] - 1s 17ms/step - loss: 1.9751 - accuracy: 0.9981 - val_loss: 2.0224 - val_accuracy: 0.9703\n",
            "Epoch 17/50\n",
            "30/30 [==============================] - 1s 17ms/step - loss: 1.9749 - accuracy: 0.9887 - val_loss: 2.0516 - val_accuracy: 0.9554\n",
            "Epoch 18/50\n",
            "30/30 [==============================] - 1s 17ms/step - loss: 1.9601 - accuracy: 0.9933 - val_loss: 1.9917 - val_accuracy: 0.9703\n",
            "Epoch 19/50\n",
            "30/30 [==============================] - 1s 17ms/step - loss: 1.9474 - accuracy: 0.9947 - val_loss: 1.9984 - val_accuracy: 0.9639\n",
            "Epoch 20/50\n",
            "30/30 [==============================] - 0s 16ms/step - loss: 1.9338 - accuracy: 0.9947 - val_loss: 1.9925 - val_accuracy: 0.9724\n",
            "Epoch 21/50\n",
            "30/30 [==============================] - 1s 17ms/step - loss: 1.9222 - accuracy: 0.9990 - val_loss: 1.9773 - val_accuracy: 0.9703\n",
            "Epoch 22/50\n",
            "30/30 [==============================] - 1s 17ms/step - loss: 1.9152 - accuracy: 0.9994 - val_loss: 1.9694 - val_accuracy: 0.9724\n",
            "Epoch 23/50\n",
            "30/30 [==============================] - 1s 17ms/step - loss: 1.9158 - accuracy: 0.9977 - val_loss: 1.9680 - val_accuracy: 0.9745\n",
            "Epoch 24/50\n",
            "30/30 [==============================] - 1s 17ms/step - loss: 1.9140 - accuracy: 0.9958 - val_loss: 2.0917 - val_accuracy: 0.9533\n",
            "Epoch 25/50\n",
            "30/30 [==============================] - 1s 17ms/step - loss: 1.9415 - accuracy: 0.9863 - val_loss: 1.9801 - val_accuracy: 0.9639\n",
            "Epoch 26/50\n",
            "30/30 [==============================] - 0s 17ms/step - loss: 1.9178 - accuracy: 0.9907 - val_loss: 1.9899 - val_accuracy: 0.9554\n",
            "Epoch 27/50\n",
            "30/30 [==============================] - 0s 17ms/step - loss: 1.9076 - accuracy: 0.9951 - val_loss: 1.9515 - val_accuracy: 0.9745\n",
            "Epoch 28/50\n",
            "30/30 [==============================] - 1s 17ms/step - loss: 1.8940 - accuracy: 0.9993 - val_loss: 1.9702 - val_accuracy: 0.9724\n",
            "Epoch 29/50\n",
            "30/30 [==============================] - 1s 17ms/step - loss: 1.8955 - accuracy: 0.9990 - val_loss: 1.9685 - val_accuracy: 0.9618\n",
            "Epoch 30/50\n",
            "30/30 [==============================] - 1s 17ms/step - loss: 1.8891 - accuracy: 0.9997 - val_loss: 1.9591 - val_accuracy: 0.9724\n",
            "Epoch 31/50\n",
            "30/30 [==============================] - 1s 17ms/step - loss: 1.8887 - accuracy: 0.9985 - val_loss: 1.9506 - val_accuracy: 0.9682\n",
            "Epoch 32/50\n",
            "30/30 [==============================] - 1s 20ms/step - loss: 1.8837 - accuracy: 0.9989 - val_loss: 1.9579 - val_accuracy: 0.9660\n",
            "Epoch 33/50\n",
            "30/30 [==============================] - 0s 17ms/step - loss: 1.8927 - accuracy: 0.9951 - val_loss: 1.9578 - val_accuracy: 0.9703\n",
            "Epoch 34/50\n",
            "30/30 [==============================] - 1s 17ms/step - loss: 1.8798 - accuracy: 0.9999 - val_loss: 1.9935 - val_accuracy: 0.9724\n",
            "Epoch 35/50\n",
            "30/30 [==============================] - 1s 17ms/step - loss: 1.8871 - accuracy: 0.9974 - val_loss: 1.9625 - val_accuracy: 0.9618\n",
            "Epoch 36/50\n",
            "30/30 [==============================] - 1s 17ms/step - loss: 1.8804 - accuracy: 0.9990 - val_loss: 1.9350 - val_accuracy: 0.9724\n",
            "Epoch 37/50\n",
            "30/30 [==============================] - 1s 17ms/step - loss: 1.8769 - accuracy: 0.9990 - val_loss: 1.9498 - val_accuracy: 0.9682\n",
            "Epoch 38/50\n",
            "30/30 [==============================] - 1s 17ms/step - loss: 1.8744 - accuracy: 0.9993 - val_loss: 1.9507 - val_accuracy: 0.9597\n",
            "Epoch 39/50\n",
            "30/30 [==============================] - 0s 17ms/step - loss: 1.8730 - accuracy: 0.9999 - val_loss: 2.0257 - val_accuracy: 0.9597\n",
            "Epoch 40/50\n",
            "30/30 [==============================] - 1s 17ms/step - loss: 1.8778 - accuracy: 0.9959 - val_loss: 1.9524 - val_accuracy: 0.9724\n",
            "Epoch 41/50\n",
            "30/30 [==============================] - 1s 17ms/step - loss: 1.8714 - accuracy: 1.0000 - val_loss: 1.9496 - val_accuracy: 0.9703\n",
            "Epoch 42/50\n",
            "30/30 [==============================] - 1s 17ms/step - loss: 1.8727 - accuracy: 0.9986 - val_loss: 1.9593 - val_accuracy: 0.9682\n",
            "Epoch 43/50\n",
            "30/30 [==============================] - 1s 17ms/step - loss: 1.8669 - accuracy: 1.0000 - val_loss: 1.9525 - val_accuracy: 0.9682\n",
            "Epoch 44/50\n",
            "30/30 [==============================] - 1s 17ms/step - loss: 1.8668 - accuracy: 1.0000 - val_loss: 1.9584 - val_accuracy: 0.9639\n",
            "Epoch 45/50\n",
            "30/30 [==============================] - 0s 17ms/step - loss: 1.8714 - accuracy: 0.9981 - val_loss: 1.9457 - val_accuracy: 0.9682\n",
            "Epoch 46/50\n",
            "30/30 [==============================] - 1s 17ms/step - loss: 1.8668 - accuracy: 0.9992 - val_loss: 1.9464 - val_accuracy: 0.9745\n",
            "Epoch 47/50\n",
            "30/30 [==============================] - 1s 17ms/step - loss: 1.8614 - accuracy: 1.0000 - val_loss: 1.9851 - val_accuracy: 0.9575\n",
            "Epoch 48/50\n",
            "30/30 [==============================] - 1s 17ms/step - loss: 1.8661 - accuracy: 0.9985 - val_loss: 1.9476 - val_accuracy: 0.9660\n",
            "Epoch 49/50\n",
            "30/30 [==============================] - 0s 17ms/step - loss: 1.8602 - accuracy: 1.0000 - val_loss: 1.9394 - val_accuracy: 0.9660\n",
            "Epoch 50/50\n",
            "30/30 [==============================] - 1s 17ms/step - loss: 1.8574 - accuracy: 0.9999 - val_loss: 1.9405 - val_accuracy: 0.9745\n",
            "15/15 [==============================] - 0s 4ms/step - loss: 1.9404 - accuracy: 0.9745\n",
            "acc=0.97 loss=1.94\n"
          ],
          "name": "stdout"
        }
      ]
    },
    {
      "cell_type": "code",
      "metadata": {
        "colab": {
          "base_uri": "https://localhost:8080/",
          "height": 545
        },
        "id": "OhtxcFeXY0bm",
        "outputId": "3a8e072a-af5a-4d54-dfc2-8498d4c1d783"
      },
      "source": [
        "import matplotlib.pyplot as plt\n",
        "\n",
        "acc = cnn_history.history['accuracy']\n",
        "loss = cnn_history.history['loss']\n",
        "\n",
        "val_acc = cnn_history.history['val_accuracy']\n",
        "val_loss = cnn_history.history['val_loss']\n",
        "\n",
        "epochs = range(len(acc))\n",
        "\n",
        "plt.style.use('dark_background')\n",
        "plt.figure()\n",
        "\n",
        "plt.plot(epochs, acc, 'r', label='Dokładność trenowania')\n",
        "plt.plot(epochs, val_acc, 'g', label='Dokładność walidacji')\n",
        "plt.title('Dokładność')\n",
        "plt.legend()\n",
        "\n",
        "plt.figure()\n",
        "\n",
        "plt.plot(epochs, loss, 'r', label='Strata treningowa')\n",
        "plt.plot(epochs, val_loss, 'g', label='Strata walidacji')\n",
        "plt.title('Strata')\n",
        "plt.legend()\n",
        "\n",
        "plt.show()"
      ],
      "execution_count": null,
      "outputs": [
        {
          "output_type": "display_data",
          "data": {
            "image/png": "[encoded data removed]",
            "text/plain": [
              "<Figure size 432x288 with 1 Axes>"
            ]
          },
          "metadata": {
            "tags": []
          }
        },
        {
          "output_type": "display_data",
          "data": {
            "image/png": "[encoded data removed]",
            "text/plain": [
              "<Figure size 432x288 with 1 Axes>"
            ]
          },
          "metadata": {
            "tags": []
          }
        }
      ]
    },
    {
      "cell_type": "code",
      "metadata": {
        "colab": {
          "base_uri": "https://localhost:8080/",
          "height": 386
        },
        "id": "cENB0Hpf7GA-",
        "outputId": "1c1092ca-3e56-4af4-cb51-80fb634ea6cd"
      },
      "source": [
        "import seaborn as sns\n",
        "from sklearn import metrics\n",
        "import matplotlib.pyplot as plt\n",
        "from sklearn.metrics import confusion_matrix\n",
        "import numpy as np\n",
        "\n",
        "def create_confusion_matrix(y_pred, y_test):    \n",
        "\n",
        "  cm = confusion_matrix(y_test, y_pred)\n",
        "  # Normalise\n",
        "  cmn = 100 * cm.astype('float') / cm.sum(axis=1)[:, np.newaxis]\n",
        "  fig, ax = plt.subplots(figsize=(5,5))\n",
        "  target_names = [0, 1]\n",
        "  sns.heatmap(cmn, annot=True, fmt='.2f', xticklabels=target_names, yticklabels=target_names)\n",
        "  plt.ylabel('Actual')\n",
        "  plt.xlabel('Predicted')\n",
        "  plt.show(block=False)    \n",
        "\n",
        "# make predictions for test data\n",
        "# y_pred = trained_cnn_model.predict_classes(X_test)\n",
        "y_pred = np.argmax(trained_cnn_model.predict(X_test), axis=1)\n",
        "# determine the total accuracy \n",
        "accuracy = metrics.accuracy_score(y_test, y_pred)\n",
        "print(\"Accuracy: %.2f%%\" % (accuracy * 100.0))\n",
        "# print score\n",
        "loss, acc = trained_cnn_model.evaluate(X_test, test_cat)\n",
        "print(\"acc={:.2f} loss={:.2f}\".format(acc, loss))\n",
        "\n",
        "create_confusion_matrix(y_pred, y_test)"
      ],
      "execution_count": null,
      "outputs": [
        {
          "output_type": "stream",
          "text": [
            "Accuracy: 97.45%\n",
            "15/15 [==============================] - 0s 4ms/step - loss: 1.9404 - accuracy: 0.9745\n",
            "acc=0.97 loss=1.94\n"
          ],
          "name": "stdout"
        },
        {
          "output_type": "display_data",
          "data": {
            "image/png": "[encoded data removed]",
            "text/plain": [
              "<Figure size 360x360 with 2 Axes>"
            ]
          },
          "metadata": {
            "tags": []
          }
        }
      ]
    },
    {
      "cell_type": "code",
      "metadata": {
        "colab": {
          "base_uri": "https://localhost:8080/"
        },
        "id": "CVX5jlW3t-Gi",
        "outputId": "2fc16a5b-a611-4688-a214-6358ce9f8eb6"
      },
      "source": [
        "trained_cnn_model.load_weights('best_model.h5')\n",
        "\n",
        "test_loss, test_acc = trained_cnn_model.evaluate(X_test, test_cat)\n",
        "print('test_loss', test_loss, 'test_acc', test_acc)\n",
        "\n",
        "trained_cnn_model.summary()"
      ],
      "execution_count": null,
      "outputs": [
        {
          "output_type": "stream",
          "text": [
            "15/15 [==============================] - 0s 4ms/step - loss: 2.0317 - accuracy: 0.9766\n",
            "test_loss 2.03171968460083 test_acc 0.9766454100608826\n",
            "Model: \"sequential\"\n",
            "_________________________________________________________________\n",
            "Layer (type)                 Output Shape              Param #   \n",
            "=================================================================\n",
            "conv2d (Conv2D)              (None, 60, 60, 32)        832       \n",
            "_________________________________________________________________\n",
            "max_pooling2d (MaxPooling2D) (None, 30, 30, 32)        0         \n",
            "_________________________________________________________________\n",
            "conv2d_1 (Conv2D)            (None, 30, 30, 64)        51264     \n",
            "_________________________________________________________________\n",
            "max_pooling2d_1 (MaxPooling2 (None, 15, 15, 64)        0         \n",
            "_________________________________________________________________\n",
            "conv2d_2 (Conv2D)            (None, 15, 15, 128)       204928    \n",
            "_________________________________________________________________\n",
            "max_pooling2d_2 (MaxPooling2 (None, 7, 7, 128)         0         \n",
            "_________________________________________________________________\n",
            "conv2d_3 (Conv2D)            (None, 7, 7, 128)         409728    \n",
            "_________________________________________________________________\n",
            "max_pooling2d_3 (MaxPooling2 (None, 3, 3, 128)         0         \n",
            "_________________________________________________________________\n",
            "flatten (Flatten)            (None, 1152)              0         \n",
            "_________________________________________________________________\n",
            "dense (Dense)                (None, 300)               345900    \n",
            "_________________________________________________________________\n",
            "dense_1 (Dense)              (None, 50)                15050     \n",
            "_________________________________________________________________\n",
            "dense_2 (Dense)              (None, 2)                 102       \n",
            "=================================================================\n",
            "Total params: 1,027,804\n",
            "Trainable params: 1,027,804\n",
            "Non-trainable params: 0\n",
            "_________________________________________________________________\n"
          ],
          "name": "stdout"
        }
      ]
    },
    {
      "cell_type": "code",
      "metadata": {
        "colab": {
          "base_uri": "https://localhost:8080/",
          "height": 386
        },
        "id": "Hvj47gM93M-h",
        "outputId": "f912b67f-90cf-46f3-ef5b-a0afe1e3e500"
      },
      "source": [
        "# make predictions for test data\n",
        "# y_pred = trained_cnn_model.predict_classes(X_test)\n",
        "y_pred = np.argmax(trained_cnn_model.predict(X_test), axis=1)\n",
        "# determine the total accuracy \n",
        "accuracy = metrics.accuracy_score(y_test, y_pred)\n",
        "print(\"Accuracy: %.2f%%\" % (accuracy * 100.0))\n",
        "# print score\n",
        "loss, acc = trained_cnn_model.evaluate(X_test, test_cat)\n",
        "print(\"acc={:.2f} loss={:.2f}\".format(acc, loss))\n",
        "\n",
        "create_confusion_matrix(y_pred, y_test)"
      ],
      "execution_count": null,
      "outputs": [
        {
          "output_type": "stream",
          "text": [
            "Accuracy: 97.66%\n",
            "15/15 [==============================] - 0s 4ms/step - loss: 2.0317 - accuracy: 0.9766\n",
            "acc=0.98 loss=2.03\n"
          ],
          "name": "stdout"
        },
        {
          "output_type": "display_data",
          "data": {
            "image/png": "[encoded data removed]",
            "text/plain": [
              "<Figure size 360x360 with 2 Axes>"
            ]
          },
          "metadata": {
            "tags": []
          }
        }
      ]
    },
    {
      "cell_type": "code",
      "metadata": {
        "id": "2xkt3yFs3WcA"
      },
      "source": [
        "def kf_validation(X_std, y, _clf_, rounds=1, verbose=False):\n",
        "  import numpy as np\n",
        "  from sklearn.model_selection import KFold\n",
        "  from sklearn import svm\n",
        "  from sklearn.metrics import accuracy_score\n",
        "  from sklearn.metrics import confusion_matrix\n",
        "  import matplotlib.pyplot as plt\n",
        "  import tensorflow as tf\n",
        "  from tensorflow import keras\n",
        "  from keras.utils import to_categorical\n",
        "  from functools import reduce\n",
        "\n",
        "  scores = []\n",
        "  CM = np.zeros_like(np.eye(4))\n",
        "  cm_seq = []\n",
        "\n",
        "  for _ in range(rounds):\n",
        "\n",
        "    kf = KFold(n_splits=5, shuffle=True)\n",
        "    kf.get_n_splits(X_std)\n",
        "\n",
        "    for train_index, test_index in kf.split(X_std):\n",
        "      # print(\"TRAIN:\", train_index, \"TEST:\", test_index)\n",
        "      X_train, X_test = X_std[train_index], X_std[test_index]\n",
        "      y_train, y_test = y[train_index], y[test_index]\n",
        "\n",
        "      # C = 1.0\n",
        "      # clf = _clf_\n",
        "      # clf = keras.models.load_model(_clf_)\n",
        "\n",
        "      # keras.backend.clear_session()\n",
        "      # clf.fit(X_train, to_categorical(y_train), batch_size=64, epochs=50, verbose=False)\n",
        "\n",
        "      cnn_model = build_cnn_model(\"relu\", input_shape, verbose=False)\n",
        "      clf, cnn_history = compile_and_fit_model(cnn_model, X_train, to_categorical(y_train), \n",
        "                                               X_test, to_categorical(y_test), \n",
        "                                               64, 50, \n",
        "                                               verbose=False)\n",
        "\n",
        "      clf.load_weights('best_model.h5')\n",
        "\n",
        "      y_pred = np.argmax(clf.predict(X_test), axis=1)\n",
        "      score = 100*accuracy_score(y_test, y_pred)\n",
        "      scores.append(score)\n",
        "      print('Dokładność: {:.2f}%'.format(score))  \n",
        "      loss, acc = clf.evaluate(X_test, to_categorical(y_test))\n",
        "      # print(\"acc={:.2f} loss={:.2f}\".format(acc, loss))\n",
        "\n",
        "      cm = confusion_matrix(y_test, y_pred)\n",
        "      # print(cm)\n",
        "      # CM = CM + cm\n",
        "      cm_seq.append(cm.copy())\n",
        "\n",
        "  # print('\\nDokładność uśredniona: {:.2f}%'.format(sum(scores)/len(scores)))  \n",
        "\n",
        "  from sklearn.metrics import confusion_matrix\n",
        "  import seaborn as sns\n",
        "\n",
        "  # cm = CM\n",
        "  cm = reduce(np.add, cm_seq)\n",
        "  # print(cm)\n",
        "  \n",
        "  # cm = CM\n",
        "  # Normalise\n",
        "  cmn = 100 * cm.astype('float') / cm.sum(axis=1)[:, np.newaxis]\n",
        "\n",
        "  if verbose==True:\n",
        "    fig, ax = plt.subplots(figsize=(6,5))\n",
        "    target_names = [0, 1]\n",
        "    sns.heatmap(cmn, annot=True, fmt='.2f', xticklabels=target_names, yticklabels=target_names)\n",
        "    plt.ylabel('Actual')\n",
        "    plt.xlabel('Predicted')\n",
        "    plt.show(block=False)\n",
        "\n",
        "    print()\n",
        "\n",
        "  # Std devs\n",
        "  cm_seq = np.array(cm_seq)\n",
        "  # cmn_std = 100 * np.divide(cm_seq.std(axis=2), cm_seq.sum(axis=2))\n",
        "  cumulative = []\n",
        "  for item in cm_seq:\n",
        "    c_ = 100 * item.astype('float') / item.sum(axis=1)[:, np.newaxis]\n",
        "    cumulative.append(c_)\n",
        "\n",
        "  cmn_std = np.array(cumulative).std(axis=0)  \n",
        "\n",
        "  if verbose==True:\n",
        "    fig, ax = plt.subplots(figsize=(6,5))\n",
        "    target_names = [0, 1]\n",
        "    sns.heatmap(cmn_std, annot=True, fmt='.2f', xticklabels=target_names, yticklabels=target_names)\n",
        "    plt.ylabel('Actual')\n",
        "    plt.xlabel('Predicted')\n",
        "    plt.show(block=False)\n",
        "\n",
        "    scores_mean = np.array(scores).mean()\n",
        "    scores_std = np.array(scores).std()\n",
        "\n",
        "  return (cmn, cmn_std, scores_mean, scores_std)"
      ],
      "execution_count": null,
      "outputs": []
    },
    {
      "cell_type": "code",
      "metadata": {
        "colab": {
          "base_uri": "https://localhost:8080/",
          "height": 1000
        },
        "id": "JTVdMmVOxxfj",
        "outputId": "10273fd5-b2c3-4b58-990f-72a7eea219a6"
      },
      "source": [
        "# for _ in range(5):\n",
        "# cm, cm_std = kf_validation(X_std, y, trained_cnn_model, verbose=True)\n",
        "cm, cm_std, acc_mean, acc_std = kf_validation(X_std, y, 'init.model.h5', rounds=30, verbose=True)\n",
        "\n",
        "print('Average accuracy: ', acc_mean)\n",
        "print('Std dev accuracy: ', acc_std)\n",
        "end  = time.time()\n",
        "print('#########################################################')\n",
        "print(\"time: \",end-begin)\n",
        "print('#########################################################')"
      ],
      "execution_count": null,
      "outputs": [
        {
          "output_type": "stream",
          "text": [
            "Dokładność: 98.30%\n",
            "15/15 [==============================] - 0s 4ms/step - loss: 1.9421 - accuracy: 0.9830\n",
            "Dokładność: 98.09%\n",
            "15/15 [==============================] - 0s 5ms/step - loss: 2.0175 - accuracy: 0.9809\n",
            "Dokładność: 99.36%\n",
            "15/15 [==============================] - 0s 4ms/step - loss: 1.9246 - accuracy: 0.9936\n",
            "Dokładność: 98.30%\n",
            "15/15 [==============================] - 0s 4ms/step - loss: 1.9794 - accuracy: 0.9830\n",
            "Dokładność: 97.87%\n",
            "15/15 [==============================] - 0s 5ms/step - loss: 1.9564 - accuracy: 0.9787\n",
            "Dokładność: 97.24%\n",
            "15/15 [==============================] - 0s 4ms/step - loss: 1.9863 - accuracy: 0.9724\n",
            "Dokładność: 98.09%\n",
            "15/15 [==============================] - 0s 4ms/step - loss: 2.0035 - accuracy: 0.9809\n",
            "Dokładność: 99.15%\n",
            "15/15 [==============================] - 0s 5ms/step - loss: 1.8929 - accuracy: 0.9915\n",
            "Dokładność: 98.51%\n",
            "15/15 [==============================] - 0s 4ms/step - loss: 1.9094 - accuracy: 0.9851\n",
            "Dokładność: 98.30%\n",
            "15/15 [==============================] - 0s 4ms/step - loss: 1.9385 - accuracy: 0.9830\n",
            "Dokładność: 97.24%\n",
            "15/15 [==============================] - 0s 4ms/step - loss: 1.9769 - accuracy: 0.9724\n",
            "Dokładność: 98.94%\n",
            "15/15 [==============================] - 0s 4ms/step - loss: 1.9509 - accuracy: 0.9894\n",
            "Dokładność: 98.94%\n",
            "15/15 [==============================] - 0s 4ms/step - loss: 2.3919 - accuracy: 0.9894\n",
            "Dokładność: 98.30%\n",
            "15/15 [==============================] - 0s 5ms/step - loss: 1.9704 - accuracy: 0.9830\n",
            "Dokładność: 98.09%\n",
            "15/15 [==============================] - 0s 4ms/step - loss: 1.9453 - accuracy: 0.9809\n",
            "Dokładność: 98.30%\n",
            "15/15 [==============================] - 0s 4ms/step - loss: 1.9786 - accuracy: 0.9830\n",
            "Dokładność: 97.88%\n",
            "15/15 [==============================] - 0s 4ms/step - loss: 2.0107 - accuracy: 0.9788\n",
            "Dokładność: 98.51%\n",
            "15/15 [==============================] - 0s 5ms/step - loss: 1.9485 - accuracy: 0.9851\n",
            "Dokładność: 98.94%\n",
            "15/15 [==============================] - 0s 4ms/step - loss: 1.9065 - accuracy: 0.9894\n",
            "Dokładność: 97.87%\n",
            "15/15 [==============================] - 0s 5ms/step - loss: 1.9460 - accuracy: 0.9787\n",
            "Dokładność: 97.66%\n",
            "15/15 [==============================] - 0s 4ms/step - loss: 1.9705 - accuracy: 0.9766\n",
            "Dokładność: 98.51%\n",
            "15/15 [==============================] - 0s 5ms/step - loss: 1.9195 - accuracy: 0.9851\n",
            "Dokładność: 98.73%\n",
            "15/15 [==============================] - 0s 4ms/step - loss: 1.9664 - accuracy: 0.9873\n",
            "Dokładność: 98.30%\n",
            "15/15 [==============================] - 0s 4ms/step - loss: 1.9154 - accuracy: 0.9830\n",
            "Dokładność: 99.15%\n",
            "15/15 [==============================] - 0s 4ms/step - loss: 1.8925 - accuracy: 0.9915\n",
            "Dokładność: 97.88%\n",
            "15/15 [==============================] - 0s 4ms/step - loss: 1.9457 - accuracy: 0.9788\n",
            "Dokładność: 98.30%\n",
            "15/15 [==============================] - 0s 5ms/step - loss: 2.0278 - accuracy: 0.9830\n",
            "Dokładność: 98.94%\n",
            "15/15 [==============================] - 0s 4ms/step - loss: 1.9229 - accuracy: 0.9894\n",
            "Dokładność: 98.51%\n",
            "15/15 [==============================] - 0s 4ms/step - loss: 1.9175 - accuracy: 0.9851\n",
            "Dokładność: 98.09%\n",
            "15/15 [==============================] - 0s 4ms/step - loss: 1.9586 - accuracy: 0.9809\n",
            "Dokładność: 98.30%\n",
            "15/15 [==============================] - 0s 4ms/step - loss: 1.9237 - accuracy: 0.9830\n",
            "Dokładność: 98.51%\n",
            "15/15 [==============================] - 0s 4ms/step - loss: 1.9300 - accuracy: 0.9851\n",
            "Dokładność: 98.09%\n",
            "15/15 [==============================] - 0s 5ms/step - loss: 1.9892 - accuracy: 0.9809\n",
            "Dokładność: 98.30%\n",
            "15/15 [==============================] - 0s 4ms/step - loss: 1.9606 - accuracy: 0.9830\n",
            "Dokładność: 98.09%\n",
            "15/15 [==============================] - 0s 4ms/step - loss: 1.9666 - accuracy: 0.9809\n",
            "Dokładność: 98.73%\n",
            "15/15 [==============================] - 0s 5ms/step - loss: 1.9704 - accuracy: 0.9873\n",
            "Dokładność: 98.30%\n",
            "15/15 [==============================] - 0s 4ms/step - loss: 1.9735 - accuracy: 0.9830\n",
            "Dokładność: 98.09%\n",
            "15/15 [==============================] - 0s 4ms/step - loss: 1.9631 - accuracy: 0.9809\n",
            "Dokładność: 98.73%\n",
            "15/15 [==============================] - 0s 4ms/step - loss: 1.9209 - accuracy: 0.9873\n",
            "Dokładność: 97.87%\n",
            "15/15 [==============================] - 0s 4ms/step - loss: 1.9791 - accuracy: 0.9787\n",
            "Dokładność: 98.30%\n",
            "15/15 [==============================] - 0s 4ms/step - loss: 1.9372 - accuracy: 0.9830\n",
            "Dokładność: 98.09%\n",
            "15/15 [==============================] - 0s 4ms/step - loss: 2.0003 - accuracy: 0.9809\n",
            "Dokładność: 98.51%\n",
            "15/15 [==============================] - 0s 4ms/step - loss: 1.9559 - accuracy: 0.9851\n",
            "Dokładność: 99.15%\n",
            "15/15 [==============================] - 0s 4ms/step - loss: 1.8984 - accuracy: 0.9915\n",
            "Dokładność: 97.23%\n",
            "15/15 [==============================] - 0s 4ms/step - loss: 1.9636 - accuracy: 0.9723\n",
            "Dokładność: 98.51%\n",
            "15/15 [==============================] - 0s 4ms/step - loss: 1.9872 - accuracy: 0.9851\n",
            "Dokładność: 98.30%\n",
            "15/15 [==============================] - 0s 4ms/step - loss: 1.9372 - accuracy: 0.9830\n",
            "Dokładność: 98.51%\n",
            "15/15 [==============================] - 0s 5ms/step - loss: 1.9636 - accuracy: 0.9851\n",
            "Dokładność: 99.36%\n",
            "15/15 [==============================] - 0s 4ms/step - loss: 1.9055 - accuracy: 0.9936\n",
            "Dokładność: 97.87%\n",
            "15/15 [==============================] - 0s 4ms/step - loss: 1.9557 - accuracy: 0.9787\n",
            "Dokładność: 98.94%\n",
            "15/15 [==============================] - 0s 4ms/step - loss: 1.9443 - accuracy: 0.9894\n",
            "Dokładność: 98.09%\n",
            "15/15 [==============================] - 0s 5ms/step - loss: 1.9466 - accuracy: 0.9809\n",
            "Dokładność: 98.73%\n",
            "15/15 [==============================] - 0s 4ms/step - loss: 1.9156 - accuracy: 0.9873\n",
            "Dokładność: 98.73%\n",
            "15/15 [==============================] - 0s 4ms/step - loss: 1.8927 - accuracy: 0.9873\n",
            "Dokładność: 98.09%\n",
            "15/15 [==============================] - 0s 4ms/step - loss: 1.9707 - accuracy: 0.9809\n",
            "Dokładność: 98.51%\n",
            "15/15 [==============================] - 0s 4ms/step - loss: 1.9636 - accuracy: 0.9851\n",
            "Dokładność: 98.51%\n",
            "15/15 [==============================] - 0s 5ms/step - loss: 1.9106 - accuracy: 0.9851\n",
            "Dokładność: 98.73%\n",
            "15/15 [==============================] - 0s 4ms/step - loss: 1.9515 - accuracy: 0.9873\n",
            "Dokładność: 97.45%\n",
            "15/15 [==============================] - 0s 4ms/step - loss: 1.9814 - accuracy: 0.9745\n",
            "Dokładność: 98.72%\n",
            "15/15 [==============================] - 0s 4ms/step - loss: 1.9669 - accuracy: 0.9872\n",
            "Dokładność: 98.09%\n",
            "15/15 [==============================] - 0s 4ms/step - loss: 1.9584 - accuracy: 0.9809\n",
            "Dokładność: 97.66%\n",
            "15/15 [==============================] - 0s 4ms/step - loss: 1.9722 - accuracy: 0.9766\n",
            "Dokładność: 99.15%\n",
            "15/15 [==============================] - 0s 4ms/step - loss: 1.8994 - accuracy: 0.9915\n",
            "Dokładność: 97.88%\n",
            "15/15 [==============================] - 0s 5ms/step - loss: 1.9855 - accuracy: 0.9788\n",
            "Dokładność: 98.51%\n",
            "15/15 [==============================] - 0s 4ms/step - loss: 1.9385 - accuracy: 0.9851\n",
            "Dokładność: 98.94%\n",
            "15/15 [==============================] - 0s 4ms/step - loss: 1.9564 - accuracy: 0.9894\n",
            "Dokładność: 98.94%\n",
            "15/15 [==============================] - 0s 4ms/step - loss: 1.9875 - accuracy: 0.9894\n",
            "Dokładność: 97.45%\n",
            "15/15 [==============================] - 0s 4ms/step - loss: 1.9452 - accuracy: 0.9745\n",
            "Dokładność: 99.58%\n",
            "15/15 [==============================] - 0s 4ms/step - loss: 1.9016 - accuracy: 0.9958\n",
            "Dokładność: 97.87%\n",
            "15/15 [==============================] - 0s 4ms/step - loss: 1.9514 - accuracy: 0.9787\n",
            "Dokładność: 97.88%\n",
            "15/15 [==============================] - 0s 4ms/step - loss: 2.0093 - accuracy: 0.9788\n",
            "Dokładność: 97.88%\n",
            "15/15 [==============================] - 0s 5ms/step - loss: 1.9544 - accuracy: 0.9788\n",
            "Dokładność: 97.88%\n",
            "15/15 [==============================] - 0s 4ms/step - loss: 1.9918 - accuracy: 0.9788\n",
            "Dokładność: 98.73%\n",
            "15/15 [==============================] - 0s 4ms/step - loss: 1.9629 - accuracy: 0.9873\n",
            "Dokładność: 98.94%\n",
            "15/15 [==============================] - 0s 4ms/step - loss: 1.9241 - accuracy: 0.9894\n",
            "Dokładność: 98.51%\n",
            "15/15 [==============================] - 0s 5ms/step - loss: 1.9705 - accuracy: 0.9851\n",
            "Dokładność: 98.30%\n",
            "15/15 [==============================] - 0s 4ms/step - loss: 1.9943 - accuracy: 0.9830\n",
            "Dokładność: 98.73%\n",
            "15/15 [==============================] - 0s 4ms/step - loss: 1.9348 - accuracy: 0.9873\n",
            "Dokładność: 97.66%\n",
            "15/15 [==============================] - 0s 4ms/step - loss: 1.9535 - accuracy: 0.9766\n",
            "Dokładność: 98.09%\n",
            "15/15 [==============================] - 0s 4ms/step - loss: 2.0459 - accuracy: 0.9809\n",
            "Dokładność: 98.30%\n",
            "15/15 [==============================] - 0s 4ms/step - loss: 2.0160 - accuracy: 0.9830\n",
            "Dokładność: 98.30%\n",
            "15/15 [==============================] - 0s 4ms/step - loss: 1.9678 - accuracy: 0.9830\n",
            "Dokładność: 98.09%\n",
            "15/15 [==============================] - 0s 4ms/step - loss: 1.9273 - accuracy: 0.9809\n",
            "Dokładność: 98.09%\n",
            "15/15 [==============================] - 0s 4ms/step - loss: 1.9332 - accuracy: 0.9809\n",
            "Dokładność: 98.30%\n",
            "15/15 [==============================] - 0s 4ms/step - loss: 2.1161 - accuracy: 0.9830\n",
            "Dokładność: 97.03%\n",
            "15/15 [==============================] - 0s 4ms/step - loss: 1.9557 - accuracy: 0.9703\n",
            "Dokładność: 98.30%\n",
            "15/15 [==============================] - 0s 4ms/step - loss: 1.9547 - accuracy: 0.9830\n",
            "Dokładność: 98.73%\n",
            "15/15 [==============================] - 0s 4ms/step - loss: 1.9764 - accuracy: 0.9873\n",
            "Dokładność: 98.51%\n",
            "15/15 [==============================] - 0s 4ms/step - loss: 1.9981 - accuracy: 0.9851\n",
            "Dokładność: 98.94%\n",
            "15/15 [==============================] - 0s 4ms/step - loss: 1.9349 - accuracy: 0.9894\n",
            "Dokładność: 98.94%\n",
            "15/15 [==============================] - 0s 4ms/step - loss: 2.0070 - accuracy: 0.9894\n",
            "Dokładność: 98.09%\n",
            "15/15 [==============================] - 0s 5ms/step - loss: 1.9487 - accuracy: 0.9809\n",
            "Dokładność: 98.51%\n",
            "15/15 [==============================] - 0s 4ms/step - loss: 1.9861 - accuracy: 0.9851\n",
            "Dokładność: 98.51%\n",
            "15/15 [==============================] - 0s 4ms/step - loss: 1.9345 - accuracy: 0.9851\n",
            "Dokładność: 97.87%\n",
            "15/15 [==============================] - 0s 4ms/step - loss: 1.9996 - accuracy: 0.9787\n",
            "Dokładność: 97.88%\n",
            "15/15 [==============================] - 0s 4ms/step - loss: 2.0378 - accuracy: 0.9788\n",
            "Dokładność: 98.73%\n",
            "15/15 [==============================] - 0s 4ms/step - loss: 1.9243 - accuracy: 0.9873\n",
            "Dokładność: 98.51%\n",
            "15/15 [==============================] - 0s 4ms/step - loss: 1.9717 - accuracy: 0.9851\n",
            "Dokładność: 97.88%\n",
            "15/15 [==============================] - 0s 4ms/step - loss: 1.9580 - accuracy: 0.9788\n",
            "Dokładność: 98.72%\n",
            "15/15 [==============================] - 0s 4ms/step - loss: 1.9223 - accuracy: 0.9872\n",
            "Dokładność: 99.79%\n",
            "15/15 [==============================] - 0s 4ms/step - loss: 2.4762 - accuracy: 0.9979\n",
            "Dokładność: 97.88%\n",
            "15/15 [==============================] - 0s 4ms/step - loss: 1.9528 - accuracy: 0.9788\n",
            "Dokładność: 98.09%\n",
            "15/15 [==============================] - 0s 4ms/step - loss: 1.9567 - accuracy: 0.9809\n",
            "Dokładność: 98.51%\n",
            "15/15 [==============================] - 0s 4ms/step - loss: 1.9538 - accuracy: 0.9851\n",
            "Dokładność: 98.72%\n",
            "15/15 [==============================] - 0s 5ms/step - loss: 1.9144 - accuracy: 0.9872\n",
            "Dokładność: 98.94%\n",
            "15/15 [==============================] - 0s 4ms/step - loss: 1.9166 - accuracy: 0.9894\n",
            "Dokładność: 98.30%\n",
            "15/15 [==============================] - 0s 5ms/step - loss: 1.9414 - accuracy: 0.9830\n",
            "Dokładność: 98.51%\n",
            "15/15 [==============================] - 0s 4ms/step - loss: 1.9475 - accuracy: 0.9851\n",
            "Dokładność: 98.51%\n",
            "15/15 [==============================] - 0s 4ms/step - loss: 1.9332 - accuracy: 0.9851\n",
            "Dokładność: 97.66%\n",
            "15/15 [==============================] - 0s 4ms/step - loss: 2.0282 - accuracy: 0.9766\n",
            "Dokładność: 98.09%\n",
            "15/15 [==============================] - 0s 4ms/step - loss: 1.9835 - accuracy: 0.9809\n",
            "Dokładność: 98.30%\n",
            "15/15 [==============================] - 0s 4ms/step - loss: 1.9603 - accuracy: 0.9830\n",
            "Dokładność: 98.09%\n",
            "15/15 [==============================] - 0s 4ms/step - loss: 1.9935 - accuracy: 0.9809\n",
            "Dokładność: 98.09%\n",
            "15/15 [==============================] - 0s 4ms/step - loss: 2.0043 - accuracy: 0.9809\n",
            "Dokładność: 98.09%\n",
            "15/15 [==============================] - 0s 4ms/step - loss: 1.9508 - accuracy: 0.9809\n",
            "Dokładność: 98.09%\n",
            "15/15 [==============================] - 0s 5ms/step - loss: 1.9627 - accuracy: 0.9809\n",
            "Dokładność: 98.30%\n",
            "15/15 [==============================] - 0s 4ms/step - loss: 2.0880 - accuracy: 0.9830\n",
            "Dokładność: 99.15%\n",
            "15/15 [==============================] - 0s 4ms/step - loss: 1.9200 - accuracy: 0.9915\n",
            "Dokładność: 98.30%\n",
            "15/15 [==============================] - 0s 4ms/step - loss: 1.9617 - accuracy: 0.9830\n",
            "Dokładność: 98.51%\n",
            "15/15 [==============================] - 0s 4ms/step - loss: 1.9885 - accuracy: 0.9851\n",
            "Dokładność: 98.30%\n",
            "15/15 [==============================] - 0s 4ms/step - loss: 1.9624 - accuracy: 0.9830\n",
            "Dokładność: 98.30%\n",
            "15/15 [==============================] - 0s 4ms/step - loss: 1.9840 - accuracy: 0.9830\n",
            "Dokładność: 98.30%\n",
            "15/15 [==============================] - 0s 4ms/step - loss: 1.9397 - accuracy: 0.9830\n",
            "Dokładność: 98.94%\n",
            "15/15 [==============================] - 0s 4ms/step - loss: 1.8957 - accuracy: 0.9894\n",
            "Dokładność: 98.09%\n",
            "15/15 [==============================] - 0s 4ms/step - loss: 1.9825 - accuracy: 0.9809\n",
            "Dokładność: 98.73%\n",
            "15/15 [==============================] - 0s 4ms/step - loss: 1.9204 - accuracy: 0.9873\n",
            "Dokładność: 97.66%\n",
            "15/15 [==============================] - 0s 4ms/step - loss: 2.1586 - accuracy: 0.9766\n",
            "Dokładność: 97.88%\n",
            "15/15 [==============================] - 0s 4ms/step - loss: 2.1503 - accuracy: 0.9788\n",
            "Dokładność: 98.51%\n",
            "15/15 [==============================] - 0s 4ms/step - loss: 1.9695 - accuracy: 0.9851\n",
            "Dokładność: 98.51%\n",
            "15/15 [==============================] - 0s 4ms/step - loss: 1.9501 - accuracy: 0.9851\n",
            "Dokładność: 98.30%\n",
            "15/15 [==============================] - 0s 4ms/step - loss: 1.9400 - accuracy: 0.9830\n",
            "Dokładność: 98.30%\n",
            "15/15 [==============================] - 0s 5ms/step - loss: 1.9297 - accuracy: 0.9830\n",
            "Dokładność: 97.45%\n",
            "15/15 [==============================] - 0s 4ms/step - loss: 2.0651 - accuracy: 0.9745\n",
            "Dokładność: 98.51%\n",
            "15/15 [==============================] - 0s 4ms/step - loss: 1.9662 - accuracy: 0.9851\n",
            "Dokładność: 98.51%\n",
            "15/15 [==============================] - 0s 4ms/step - loss: 1.9213 - accuracy: 0.9851\n",
            "Dokładność: 98.30%\n",
            "15/15 [==============================] - 0s 4ms/step - loss: 1.9351 - accuracy: 0.9830\n",
            "Dokładność: 97.45%\n",
            "15/15 [==============================] - 0s 4ms/step - loss: 1.9770 - accuracy: 0.9745\n",
            "Dokładność: 99.15%\n",
            "15/15 [==============================] - 0s 4ms/step - loss: 1.9577 - accuracy: 0.9915\n",
            "Dokładność: 98.30%\n",
            "15/15 [==============================] - 0s 5ms/step - loss: 1.9397 - accuracy: 0.9830\n",
            "Dokładność: 98.09%\n",
            "15/15 [==============================] - 0s 5ms/step - loss: 2.0811 - accuracy: 0.9809\n",
            "Dokładność: 98.94%\n",
            "15/15 [==============================] - 0s 4ms/step - loss: 1.9260 - accuracy: 0.9894\n",
            "Dokładność: 98.09%\n",
            "15/15 [==============================] - 0s 4ms/step - loss: 1.9319 - accuracy: 0.9809\n",
            "Dokładność: 98.09%\n",
            "15/15 [==============================] - 0s 4ms/step - loss: 2.2396 - accuracy: 0.9809\n",
            "Dokładność: 97.45%\n",
            "15/15 [==============================] - 0s 4ms/step - loss: 1.9410 - accuracy: 0.9745\n",
            "Dokładność: 98.72%\n",
            "15/15 [==============================] - 0s 4ms/step - loss: 1.9639 - accuracy: 0.9872\n",
            "Dokładność: 98.09%\n",
            "15/15 [==============================] - 0s 4ms/step - loss: 1.9414 - accuracy: 0.9809\n",
            "Dokładność: 99.15%\n",
            "15/15 [==============================] - 0s 5ms/step - loss: 1.8963 - accuracy: 0.9915\n",
            "Dokładność: 99.15%\n",
            "15/15 [==============================] - 0s 4ms/step - loss: 1.9209 - accuracy: 0.9915\n",
            "Dokładność: 98.30%\n",
            "15/15 [==============================] - 0s 4ms/step - loss: 1.9709 - accuracy: 0.9830\n",
            "Dokładność: 98.09%\n",
            "15/15 [==============================] - 0s 4ms/step - loss: 1.9268 - accuracy: 0.9809\n"
          ],
          "name": "stdout"
        },
        {
          "output_type": "display_data",
          "data": {
            "image/png": "[encoded data removed]",
            "text/plain": [
              "<Figure size 432x360 with 2 Axes>"
            ]
          },
          "metadata": {
            "tags": []
          }
        },
        {
          "output_type": "stream",
          "text": [
            "\n"
          ],
          "name": "stdout"
        },
        {
          "output_type": "display_data",
          "data": {
            "image/png": "[encoded data removed]",
            "text/plain": [
              "<Figure size 432x360 with 2 Axes>"
            ]
          },
          "metadata": {
            "tags": []
          }
        },
        {
          "output_type": "stream",
          "text": [
            "Average accuracy:  98.34745147641205\n",
            "Std dev accuracy:  0.4856173964657947\n",
            "#########################################################\n",
            "time:  3900.3889336586\n",
            "#########################################################\n"
          ],
          "name": "stdout"
        }
      ]
    },
    {
      "cell_type": "code",
      "metadata": {
        "id": "hiUYcx6j200H",
        "colab": {
          "base_uri": "https://localhost:8080/"
        },
        "outputId": "551b340b-7804-457d-8a3a-a9d9b621f577"
      },
      "source": [
        "print(np.round(cm,2))\n",
        "print(np.round(cm_std,2))"
      ],
      "execution_count": null,
      "outputs": [
        {
          "output_type": "stream",
          "text": [
            "[[98.45  1.55]\n",
            " [ 1.76 98.24]]\n",
            "[[0.78 0.78]\n",
            " [0.94 0.94]]\n"
          ],
          "name": "stdout"
        }
      ]
    },
    {
      "cell_type": "code",
      "metadata": {
        "colab": {
          "base_uri": "https://localhost:8080/"
        },
        "id": "HiGrxwiaWRZv",
        "outputId": "aa39d17c-1f3f-48ee-b567-ea3345004d9d"
      },
      "source": [
        "gpus = tf.config.experimental.list_physical_devices('GPU')\n",
        "for gpu in gpus:\n",
        "  print(\"Name:\", gpu.name, \"  Type:\", gpu.device_type)\n",
        "\n"
      ],
      "execution_count": null,
      "outputs": [
        {
          "output_type": "stream",
          "text": [
            "Name: /physical_device:GPU:0   Type: GPU\n"
          ],
          "name": "stdout"
        }
      ]
    },
    {
      "cell_type": "code",
      "metadata": {
        "id": "p7swCO1qWb1i"
      },
      "source": [
        ""
      ],
      "execution_count": null,
      "outputs": []
    }
  ]
}
